{
 "cells": [
  {
   "cell_type": "markdown",
   "id": "70f0e40a",
   "metadata": {},
   "source": [
    "#  Analysis of general data of Espoo in 2022"
   ]
  },
  {
   "cell_type": "markdown",
   "id": "3919f073",
   "metadata": {},
   "source": [
    "## Version for one workbook (CSV)"
   ]
  },
  {
   "cell_type": "code",
   "execution_count": 8,
   "id": "60d265d8",
   "metadata": {},
   "outputs": [
    {
     "data": {
      "text/html": [
       "<div>\n",
       "<style scoped>\n",
       "    .dataframe tbody tr th:only-of-type {\n",
       "        vertical-align: middle;\n",
       "    }\n",
       "\n",
       "    .dataframe tbody tr th {\n",
       "        vertical-align: top;\n",
       "    }\n",
       "\n",
       "    .dataframe thead th {\n",
       "        text-align: right;\n",
       "    }\n",
       "</style>\n",
       "<table border=\"1\" class=\"dataframe\">\n",
       "  <thead>\n",
       "    <tr style=\"text-align: right;\">\n",
       "      <th></th>\n",
       "      <th>Tietoja Espoosta ja sen suur- ja tilastoalueista</th>\n",
       "      <th>Unnamed: 1</th>\n",
       "      <th>Unnamed: 2</th>\n",
       "      <th>ESPOO</th>\n",
       "      <th>Unnamed: 4</th>\n",
       "      <th>Unnamed: 5</th>\n",
       "    </tr>\n",
       "  </thead>\n",
       "  <tbody>\n",
       "    <tr>\n",
       "      <th>0</th>\n",
       "      <td>NaN</td>\n",
       "      <td>NaN</td>\n",
       "      <td>NaN</td>\n",
       "      <td>NaN</td>\n",
       "      <td>NaN</td>\n",
       "      <td>NaN</td>\n",
       "    </tr>\n",
       "    <tr>\n",
       "      <th>1</th>\n",
       "      <td>NaN</td>\n",
       "      <td>NaN</td>\n",
       "      <td>NaN</td>\n",
       "      <td>2022</td>\n",
       "      <td>NaN</td>\n",
       "      <td>NaN</td>\n",
       "    </tr>\n",
       "    <tr>\n",
       "      <th>2</th>\n",
       "      <td>VÄESTÖ 31.12.</td>\n",
       "      <td>kpl</td>\n",
       "      <td>0-6 v</td>\n",
       "      <td>23,881</td>\n",
       "      <td>NaN</td>\n",
       "      <td>NaN</td>\n",
       "    </tr>\n",
       "    <tr>\n",
       "      <th>3</th>\n",
       "      <td>NaN</td>\n",
       "      <td>NaN</td>\n",
       "      <td>7-12 v</td>\n",
       "      <td>23,651</td>\n",
       "      <td>NaN</td>\n",
       "      <td>NaN</td>\n",
       "    </tr>\n",
       "    <tr>\n",
       "      <th>4</th>\n",
       "      <td>NaN</td>\n",
       "      <td>NaN</td>\n",
       "      <td>13-15 v</td>\n",
       "      <td>11,565</td>\n",
       "      <td>NaN</td>\n",
       "      <td>NaN</td>\n",
       "    </tr>\n",
       "  </tbody>\n",
       "</table>\n",
       "</div>"
      ],
      "text/plain": [
       "  Tietoja Espoosta ja sen suur- ja tilastoalueista Unnamed: 1 Unnamed: 2  \\\n",
       "0                                              NaN        NaN        NaN   \n",
       "1                                              NaN        NaN        NaN   \n",
       "2                                    VÄESTÖ 31.12.        kpl      0-6 v   \n",
       "3                                              NaN        NaN     7-12 v   \n",
       "4                                              NaN        NaN    13-15 v   \n",
       "\n",
       "    ESPOO  Unnamed: 4 Unnamed: 5  \n",
       "0     NaN         NaN        NaN  \n",
       "1    2022         NaN        NaN  \n",
       "2  23,881         NaN        NaN  \n",
       "3  23,651         NaN        NaN  \n",
       "4  11,565         NaN        NaN  "
      ]
     },
     "execution_count": 8,
     "metadata": {},
     "output_type": "execute_result"
    }
   ],
   "source": [
    "# analysis.ipynb\n",
    "import pandas as pd\n",
    "\n",
    "# Load the data\n",
    "df = pd.read_csv('../data/Espooaluetietoa2022.csv')\n",
    "df.head()"
   ]
  },
  {
   "cell_type": "markdown",
   "id": "4c22a726",
   "metadata": {},
   "source": [
    "# OR\n",
    "\n",
    "## Version for checking excel files"
   ]
  },
  {
   "cell_type": "code",
   "execution_count": 5,
   "id": "9fdfa8fe",
   "metadata": {},
   "outputs": [
    {
     "name": "stdout",
     "output_type": "stream",
     "text": [
      "['SISÄLTÖ', 'ESPOO', '1 Suur-Leppävaara', '11 Kanta-Leppävaara', '13 Kilo-Karakallio', '14 Laaksolahti', '15 Viherlaakso-Lippajärvi', '16 Sepänkylä', '2 Suur-Tapiola', '21 Kanta-Tapiola', '22 Otaniemi', '23 Haukilahti-Westend', '24 Mankkaa', '25 Laajalahti', '3 Suur-Matinkylä', '31 Matinkylä', '32 Olari', '33 Henttaa-Suurpelto', '4 Suur-Espoonlahti', '41 Kanta-Espoonlahti', '42 Saunalahti', '43 Nöykkiö-Latokaski', '44 Kaitaa', '45 Suvisaaristo', '5 Suur-Kauklahti', '51 Kanta-Kauklahti', '52 Kurttila-Vanttila', '6 Vanha-Espoo', '61 Kanta-Espoo', '62 Muurala-Gumböle', '63 Bemböle', '64 Nuuksio-Nupuri', '7 Pohjois-Espoo', '71 Vanhakartano-Röylä', '72 Kalajärvi-Lakisto']\n"
     ]
    }
   ],
   "source": [
    "import pandas as pd\n",
    "\n",
    "# List all sheets in the Excel file\n",
    "excel_file = pd.ExcelFile('../data/Espooaluetietoa2022.xlsx')\n",
    "print(excel_file.sheet_names)\n",
    "# Load a specific sheet\n",
    "df = pd.read_excel('../data/Espooaluetietoa2022.xlsx', sheet_name='1 Suur-Leppävaara')"
   ]
  },
  {
   "cell_type": "code",
   "execution_count": 6,
   "id": "563be51a",
   "metadata": {},
   "outputs": [
    {
     "name": "stdout",
     "output_type": "stream",
     "text": [
      "<class 'pandas.core.frame.DataFrame'>\n",
      "RangeIndex: 172 entries, 0 to 171\n",
      "Data columns (total 4 columns):\n",
      " #   Column      Non-Null Count  Dtype \n",
      "---  ------      --------------  ----- \n",
      " 0   Unnamed: 0  106 non-null    object\n",
      " 1   Unnamed: 1  18 non-null     object\n",
      " 2   Unnamed: 2  60 non-null     object\n",
      " 3   Unnamed: 3  140 non-null    object\n",
      "dtypes: object(4)\n",
      "memory usage: 5.5+ KB\n"
     ]
    },
    {
     "data": {
      "text/plain": [
       "Unnamed: 0     66\n",
       "Unnamed: 1    154\n",
       "Unnamed: 2    112\n",
       "Unnamed: 3     32\n",
       "dtype: int64"
      ]
     },
     "execution_count": 6,
     "metadata": {},
     "output_type": "execute_result"
    }
   ],
   "source": [
    "# Get basic info about df\n",
    "df.info()\n",
    "# Check for missing values\n",
    "df.isnull().sum()"
   ]
  }
 ],
 "metadata": {
  "kernelspec": {
   "display_name": "Python 3",
   "language": "python",
   "name": "python3"
  },
  "language_info": {
   "codemirror_mode": {
    "name": "ipython",
    "version": 3
   },
   "file_extension": ".py",
   "mimetype": "text/x-python",
   "name": "python",
   "nbconvert_exporter": "python",
   "pygments_lexer": "ipython3",
   "version": "3.12.0"
  }
 },
 "nbformat": 4,
 "nbformat_minor": 5
}
